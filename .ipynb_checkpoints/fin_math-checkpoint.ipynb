{
 "cells": [
  {
   "cell_type": "code",
   "execution_count": null,
   "id": "8c3cca69-4678-456f-bcbc-30d14138909c",
   "metadata": {},
   "outputs": [],
   "source": [
    "import pandas as pd\n",
    "import numpy as np\n",
    "import matplotlib.pyplot as plt\n",
    "from pandas_datareader import DataReader\n",
    "from datetime import datetime"
   ]
  },
  {
   "cell_type": "code",
   "execution_count": null,
   "id": "45c699a0-0de0-47b6-ae4f-3a3c40dcee49",
   "metadata": {},
   "outputs": [],
   "source": [
    "start = datetime(datetime.now().year - 1, datetime.now().month, datetime.now().day)\n",
    "end = datetime.now()\n",
    "\n",
    "# getting stock data\n",
    "stock_list = ['AMZN', 'GOOG', 'FB']\n",
    "for stock in stock_list:\n",
    "    globals()[stock] = DataReader(stock, 'yahoo', start, end)"
   ]
  },
  {
   "cell_type": "code",
   "execution_count": null,
   "id": "adcd61bd-8948-47e1-889b-3cbb140bf554",
   "metadata": {},
   "outputs": [],
   "source": [
    "# setup the moving average per interval\n",
    "moving_average_intervals = [5, 20, 50]\n",
    "for interval in moving_average_intervals:\n",
    "    GOOG[f'ma-{interval}'] = GOOG['Adj Close'].rolling(interval).mean()"
   ]
  },
  {
   "cell_type": "code",
   "execution_count": null,
   "id": "d876d1aa-7de4-4721-a638-a8ad106f9aaa",
   "metadata": {},
   "outputs": [],
   "source": [
    "# GOOG[['Adj Close', 'ma-5', 'ma-20', 'ma-50']].plot(figsize=(16, 6), legend=True)"
   ]
  },
  {
   "cell_type": "code",
   "execution_count": null,
   "id": "ceefa251-0f8c-4a32-9c7e-5271518b288e",
   "metadata": {},
   "outputs": [],
   "source": [
    "# daily return calculation\n",
    "GOOG['Daily Return'] = GOOG['Adj Close'].pct_change()"
   ]
  },
  {
   "cell_type": "code",
   "execution_count": 45,
   "id": "6bbeb46a-1a0c-4eee-afba-4127c9b98bf8",
   "metadata": {},
   "outputs": [],
   "source": [
    "new_stocks_list = ['MSFT', 'NFLX']\n",
    "for new_stock in new_stocks_list:\n",
    "    adj_close_stock_prices[new_stock] = DataReader(new_stock, 'yahoo', start, end)['Adj Close']\n",
    "\n",
    "adj_stocks_return = adj_close_stock_prices.pct_change()\n",
    "\n",
    "# plt.plot(adj_stocks_return['NFLX'])\n",
    "# plt.show()"
   ]
  },
  {
   "cell_type": "code",
   "execution_count": 52,
   "id": "199b36b1-7305-4bec-916d-5d2d11f0bea6",
   "metadata": {},
   "outputs": [],
   "source": [
    "import seaborn as sns"
   ]
  },
  {
   "cell_type": "code",
   "execution_count": null,
   "id": "96dee89f-e42a-49aa-9185-867e145a2e35",
   "metadata": {},
   "outputs": [],
   "source": [
    "# stocks prices cross comparison\n",
    "# sns.jointplot('MSFT', 'MSFT', data=adj_stocks_return, color='orange')"
   ]
  },
  {
   "cell_type": "code",
   "execution_count": null,
   "id": "0f81231e-4838-4ed3-9dc0-3e3f2e9883ef",
   "metadata": {},
   "outputs": [],
   "source": [
    "# stocks prices cross comparison\n",
    "# sns.pairplot(data=adj_stocks_return)"
   ]
  },
  {
   "cell_type": "code",
   "execution_count": null,
   "id": "6632fa05-3396-464f-bb1a-8b3553c711ac",
   "metadata": {},
   "outputs": [],
   "source": []
  }
 ],
 "metadata": {
  "kernelspec": {
   "display_name": "Python 3 (ipykernel)",
   "language": "python",
   "name": "python3"
  },
  "language_info": {
   "codemirror_mode": {
    "name": "ipython",
    "version": 3
   },
   "file_extension": ".py",
   "mimetype": "text/x-python",
   "name": "python",
   "nbconvert_exporter": "python",
   "pygments_lexer": "ipython3",
   "version": "3.9.7"
  }
 },
 "nbformat": 4,
 "nbformat_minor": 5
}
